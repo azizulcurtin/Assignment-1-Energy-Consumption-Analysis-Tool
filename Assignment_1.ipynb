{
  "nbformat": 4,
  "nbformat_minor": 0,
  "metadata": {
    "colab": {
      "provenance": [],
      "authorship_tag": "ABX9TyOYzRihKGJLzwUTyn82UsEN",
      "include_colab_link": true
    },
    "kernelspec": {
      "name": "python3",
      "display_name": "Python 3"
    },
    "language_info": {
      "name": "python"
    }
  },
  "cells": [
    {
      "cell_type": "markdown",
      "metadata": {
        "id": "view-in-github",
        "colab_type": "text"
      },
      "source": [
        "<a href=\"https://colab.research.google.com/github/azizulcurtin/Assesment-1/blob/main/Assignment_1.ipynb\" target=\"_parent\"><img src=\"https://colab.research.google.com/assets/colab-badge.svg\" alt=\"Open In Colab\"/></a>"
      ]
    },
    {
      "cell_type": "code",
      "execution_count": null,
      "metadata": {
        "id": "YXzEpLAYTNtc"
      },
      "outputs": [],
      "source": [
        "import matplotlib.pyplot as plt\n",
        "\n",
        "# Function to input monthly energy consumption data for a year\n",
        "def input_monthly_data():\n",
        "    energy_data = {}  # Dictionary to store energy data for each month\n",
        "    for month in range(1, 13):  # Loop through each month of the year\n",
        "        print(f\"Enter data for Month {month}:\")\n",
        "        # Prompt user to input electricity, gas, and water usage for the month\n",
        "        electricity = float(input(\"Electricity usage (kWh): \"))\n",
        "        gas = float(input(\"Gas usage (cubic meters): \"))\n",
        "        water = float(input(\"Water usage (cubic meters): \"))\n",
        "        # Store the energy data for the month in the dictionary\n",
        "        energy_data[month] = {'Electricity': electricity, 'Gas': gas, 'Water': water}\n",
        "    return energy_data\n",
        "\n",
        "# Function to plot monthly consumption trends for each energy type\n",
        "def plot_monthly_consumption_trends(data):\n",
        "    months = list(data.keys())  # Extract months from the data\n",
        "    # Extract electricity, gas, and water usage for each month\n",
        "    electricity = [data[month]['Electricity'] for month in months]\n",
        "    gas = [data[month]['Gas'] for month in months]\n",
        "    water = [data[month]['Water'] for month in months]\n",
        "\n",
        "    # Plot monthly consumption trends for each energy type\n",
        "    plt.plot(months, electricity, label='Electricity')\n",
        "    plt.plot(months, gas, label='Gas')\n",
        "    plt.plot(months, water, label='Water')\n",
        "\n",
        "    plt.xlabel('Month')  # Set x-axis label\n",
        "    plt.ylabel('Usage')   # Set y-axis label\n",
        "    plt.title('Monthly Consumption Trends')  # Set plot title\n",
        "    plt.legend()  # Display legend\n",
        "    plt.show()    # Show plot\n",
        "\n",
        "# Function to plot comparison of energy types by consumption\n",
        "def plot_energy_type_comparison(data):\n",
        "    energy_types = list(data[1].keys())  # Get energy types from any month's data\n",
        "    # Calculate total usage for each energy type\n",
        "    total_usage = {energy_type: sum(data[month][energy_type] for month in data) for energy_type in energy_types}\n",
        "\n",
        "    # Plot comparison of energy types by consumption\n",
        "    plt.bar(energy_types, [total_usage[energy_type] for energy_type in energy_types])\n",
        "    plt.xlabel('Energy Type')  # Set x-axis label\n",
        "    plt.ylabel('Total Usage')   # Set y-axis label\n",
        "    plt.title('Comparison of Energy Types by Consumption')  # Set plot title\n",
        "    plt.show()    # Show plot\n",
        "\n",
        "# Function to plot annual total consumption breakdown by energy type\n",
        "def plot_annual_consumption_breakdown(data):\n",
        "    energy_types = list(data[1].keys())  # Get energy types from any month's data\n",
        "    # Calculate total usage for each energy type\n",
        "    total_usage = {energy_type: sum(data[month][energy_type] for month in data) for energy_type in energy_types}\n",
        "\n",
        "    # Plot annual total consumption breakdown by energy type\n",
        "    plt.pie([total_usage[energy_type] for energy_type in energy_types], labels=energy_types, autopct='%1.1f%%')\n",
        "    plt.title('Annual Consumption Breakdown by Energy Type')  # Set plot title\n",
        "    plt.show()    # Show plot\n",
        "\n",
        "# Main function to run the program\n",
        "def main():\n",
        "    print(\"Welcome to the Energy Consumption Analysis Tool!\")\n",
        "    energy_data = input_monthly_data()  # Input monthly energy consumption data\n",
        "\n",
        "    while True:\n",
        "        # Display menu for analysis options\n",
        "        print(\"\\nChoose an analysis option:\")\n",
        "        print(\"1. Monthly consumption trends\")\n",
        "        print(\"2. Comparison of energy types by consumption\")\n",
        "        print(\"3. Annual total consumption breakdown by energy type\")\n",
        "        print(\"4. Exit\")\n",
        "        option = int(input(\"Enter your choice (1-4): \"))  # Get user's choice\n",
        "\n",
        "        # Call corresponding analysis function based on user's choice\n",
        "        if option == 1:\n",
        "            plot_monthly_consumption_trends(energy_data)\n",
        "        elif option == 2:\n",
        "            plot_energy_type_comparison(energy_data)\n",
        "        elif option == 3:\n",
        "            plot_annual_consumption_breakdown(energy_data)\n",
        "        elif option == 4:\n",
        "            print(\"Exiting...\")\n",
        "            break\n",
        "        else:\n",
        "            print(\"Invalid option. Please choose a number between 1 and 4.\")\n",
        "\n",
        "# Run the main function if the script is executed directly\n",
        "if __name__ == \"__main__\":\n",
        "    main()"
      ]
    }
  ]
}