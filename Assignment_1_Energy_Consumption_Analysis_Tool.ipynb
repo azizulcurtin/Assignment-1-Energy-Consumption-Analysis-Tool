{
  "cells": [
    {
      "cell_type": "markdown",
      "metadata": {
        "id": "view-in-github",
        "colab_type": "text"
      },
      "source": [
        "<a href=\"https://colab.research.google.com/github/azizulcurtin/Assignment-1-Energy-Consumption-Analysis-Tool/blob/main/Assignment_1_Energy_Consumption_Analysis_Tool.ipynb\" target=\"_parent\"><img src=\"https://colab.research.google.com/assets/colab-badge.svg\" alt=\"Open In Colab\"/></a>"
      ]
    },
    {
      "cell_type": "markdown",
      "source": [
        "### **Energy Consumption Analysis Tool**"
      ],
      "metadata": {
        "id": "uqYCMpf6rpUb"
      }
    },
    {
      "cell_type": "markdown",
      "metadata": {
        "id": "cChDHO_vWDR4"
      },
      "source": [
        "\n",
        "## **Introduction:**\n",
        "\n",
        "The Energy Consumption Analysis Tool is a Python application designed to assist users in tracking and analyzing their monthly energy consumption data. Developed by EcoSolutions, a company dedicated to promoting energy efficiency and sustainability, this tool aims to provide insights into energy usage patterns to encourage more efficient consumption and ultimately save on utility bills. By inputting data for electricity, gas, and water usage on a monthly basis, users can visualize their consumption trends and identify opportunities for reducing energy usage."
      ]
    },
    {
      "cell_type": "markdown",
      "source": [
        "## **Step 1: Importing Libraries**\n",
        "\n",
        "This line imports the pyplot module from the matplotlib library, which is used for creating static, animated, and interactive visualizations in Python."
      ],
      "metadata": {
        "id": "lwxJVsGRobSn"
      }
    },
    {
      "cell_type": "code",
      "execution_count": null,
      "metadata": {
        "id": "HIB41fGUU-ZV"
      },
      "outputs": [],
      "source": [
        "import matplotlib.pyplot as plt"
      ]
    },
    {
      "cell_type": "markdown",
      "source": [
        "## **Step 2: EnergyConsumptionAnalyzer Class Definition**\n",
        "This class represents an energy consumption analyzer. It initializes with an empty list data to store the energy consumption data for each month."
      ],
      "metadata": {
        "id": "9u_HD7Amqtnx"
      }
    },
    {
      "cell_type": "code",
      "execution_count": null,
      "metadata": {
        "id": "oo67MbDmVDa_"
      },
      "outputs": [],
      "source": [
        "# Function to input monthly energy consumption data for a year\n",
        "def input_monthly_data():\n",
        "    energy_data = {}  # Dictionary to store energy data for each month\n",
        "    for month in range(1, 13):  # Loop through each month of the year\n",
        "        print(f\"Enter data for Month {month}:\")\n",
        "        # Prompt user to input electricity, gas, and water usage for the month\n",
        "        electricity = float(input(\"Electricity usage (kWh): \"))\n",
        "        gas = float(input(\"Gas usage (cubic meters): \"))\n",
        "        water = float(input(\"Water usage (cubic meters): \"))\n",
        "        # Store the energy data for the month in the dictionary\n",
        "        energy_data[month] = {'Electricity': electricity, 'Gas': gas, 'Water': water}\n",
        "    return energy_data"
      ]
    },
    {
      "cell_type": "markdown",
      "source": [
        "## **Step 3: Inputting Data**\n",
        "This method prompts the user to input monthly energy consumption data for a year. It asks for electricity, gas, and water usage for each month and stores the data in the data list."
      ],
      "metadata": {
        "id": "-LT3CnmCpoyj"
      }
    },
    {
      "cell_type": "code",
      "execution_count": null,
      "metadata": {
        "id": "H3ztcqUFVDSM"
      },
      "outputs": [],
      "source": [
        "# Function to plot monthly consumption trends for each energy type\n",
        "def plot_monthly_consumption_trends(data):\n",
        "    months = list(data.keys())  # Extract months from the data\n",
        "    # Extract electricity, gas, and water usage for each month\n",
        "    electricity = [data[month]['Electricity'] for month in months]\n",
        "    gas = [data[month]['Gas'] for month in months]\n",
        "    water = [data[month]['Water'] for month in months]\n",
        "\n",
        "    # Plot monthly consumption trends for each energy type\n",
        "    plt.plot(months, electricity, label='Electricity')\n",
        "    plt.plot(months, gas, label='Gas')\n",
        "    plt.plot(months, water, label='Water')\n",
        "\n",
        "    plt.xlabel('Month')  # Set x-axis label\n",
        "    plt.ylabel('Usage')   # Set y-axis label\n",
        "    plt.title('Monthly Consumption Trends')  # Set plot title\n",
        "    plt.legend()  # Display legend\n",
        "    plt.show()    # Show plot"
      ]
    },
    {
      "cell_type": "markdown",
      "source": [
        "## **Step 4: Analyzing and Visualizing Data**\n",
        "This method allows the user to select from different analysis options and visualize the data accordingly. It maps each option to its corresponding analysis method."
      ],
      "metadata": {
        "id": "Pan7ngNgp8yl"
      }
    },
    {
      "cell_type": "code",
      "execution_count": null,
      "metadata": {
        "id": "9fCxzhYZVDJ6"
      },
      "outputs": [],
      "source": [
        "# Function to plot comparison of energy types by consumption\n",
        "def plot_energy_type_comparison(data):\n",
        "    energy_types = list(data[1].keys())  # Get energy types from any month's data\n",
        "    # Calculate total usage for each energy type\n",
        "    total_usage = {energy_type: sum(data[month][energy_type] for month in data) for energy_type in energy_types}\n",
        "\n",
        "    # Plot comparison of energy types by consumption\n",
        "    plt.bar(energy_types, [total_usage[energy_type] for energy_type in energy_types])\n",
        "    plt.xlabel('Energy Type')  # Set x-axis label\n",
        "    plt.ylabel('Total Usage')   # Set y-axis label\n",
        "    plt.title('Comparison of Energy Types by Consumption')  # Set plot title\n",
        "    plt.show()    # Show plot\n"
      ]
    },
    {
      "cell_type": "markdown",
      "source": [
        "## **Step 5: Monthly Consumption Trends**\n",
        "This method visualizes the monthly consumption trends of electricity, gas, and water over the year using a line plot."
      ],
      "metadata": {
        "id": "0TCAnzKBqMmi"
      }
    },
    {
      "cell_type": "code",
      "execution_count": null,
      "metadata": {
        "id": "IP7AJDhAVDBE"
      },
      "outputs": [],
      "source": [
        "# Function to plot annual total consumption breakdown by energy type\n",
        "def plot_annual_consumption_breakdown(data):\n",
        "    energy_types = list(data[1].keys())  # Get energy types from any month's data\n",
        "    # Calculate total usage for each energy type\n",
        "    total_usage = {energy_type: sum(data[month][energy_type] for month in data) for energy_type in energy_types}\n",
        "\n",
        "    # Plot annual total consumption breakdown by energy type\n",
        "    plt.pie([total_usage[energy_type] for energy_type in energy_types], labels=energy_types, autopct='%1.1f%%')\n",
        "    plt.title('Annual Consumption Breakdown by Energy Type')  # Set plot title\n",
        "    plt.show()    # Show plot"
      ]
    },
    {
      "cell_type": "markdown",
      "source": [
        "## **Step 6: Energy Type Comparison**\n",
        "This method compares the total consumption of electricity, gas, and water over the year and visualizes it using a pie chart."
      ],
      "metadata": {
        "id": "acm75CAsqX7x"
      }
    },
    {
      "cell_type": "code",
      "execution_count": null,
      "metadata": {
        "id": "urorKsQQVC5i"
      },
      "outputs": [],
      "source": [
        "# Main function to run the program\n",
        "def main():\n",
        "    print(\"Welcome to the Energy Consumption Analysis Tool!\")\n",
        "    energy_data = input_monthly_data()  # Input monthly energy consumption data\n",
        "\n",
        "    while True:\n",
        "        # Display menu for analysis options\n",
        "        print(\"\\nChoose an analysis option:\")\n",
        "        print(\"1. Monthly consumption trends\")\n",
        "        print(\"2. Comparison of energy types by consumption\")\n",
        "        print(\"3. Annual total consumption breakdown by energy type\")\n",
        "        print(\"4. Exit\")\n",
        "        option = int(input(\"Enter your choice (1-4): \"))  # Get user's choice\n",
        "\n",
        "        # Call corresponding analysis function based on user's choice\n",
        "        if option == 1:\n",
        "            plot_monthly_consumption_trends(energy_data)\n",
        "        elif option == 2:\n",
        "            plot_energy_type_comparison(energy_data)\n",
        "        elif option == 3:\n",
        "            plot_annual_consumption_breakdown(energy_data)\n",
        "        elif option == 4:\n",
        "            print(\"Exiting...\")\n",
        "            break\n",
        "        else:\n",
        "            print(\"Invalid option. Please choose a number between 1 and 4.\")"
      ]
    },
    {
      "cell_type": "code",
      "execution_count": null,
      "metadata": {
        "colab": {
          "background_save": true,
          "base_uri": "https://localhost:8080/"
        },
        "id": "YXzEpLAYTNtc",
        "outputId": "00cf7209-1d67-4930-9633-bdf3c166fd89"
      },
      "outputs": [
        {
          "name": "stdout",
          "output_type": "stream",
          "text": [
            "Welcome to the Energy Consumption Analysis Tool!\n",
            "Enter data for Month 1:\n",
            "Electricity usage (kWh): 150\n"
          ]
        }
      ],
      "source": [
        "# Run the main function if the script is executed directly\n",
        "if __name__ == \"__main__\":\n",
        "    main()"
      ]
    },
    {
      "cell_type": "markdown",
      "metadata": {
        "id": "qf70IjlBVuvk"
      },
      "source": [
        "**Conclusion:**\n",
        "\n",
        "The Energy Consumption Analysis Tool provides users with a simple yet powerful way to track and analyze their energy usage patterns. By visualizing monthly consumption trends, comparing energy types, and understanding annual consumption breakdowns, users can identify areas for improvement and make informed decisions to promote energy efficiency and sustainability. With the ability to input and analyze data on a regular basis, this tool empowers users to take control of their energy consumption and work towards a more sustainable future."
      ]
    }
  ],
  "metadata": {
    "colab": {
      "provenance": [],
      "authorship_tag": "ABX9TyN0q/9MCF/EawJC/53s917A",
      "include_colab_link": true
    },
    "kernelspec": {
      "display_name": "Python 3",
      "name": "python3"
    },
    "language_info": {
      "name": "python"
    }
  },
  "nbformat": 4,
  "nbformat_minor": 0
}